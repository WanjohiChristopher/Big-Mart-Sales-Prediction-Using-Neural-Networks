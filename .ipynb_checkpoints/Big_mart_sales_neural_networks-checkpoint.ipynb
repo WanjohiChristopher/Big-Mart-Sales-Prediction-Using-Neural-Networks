{
 "cells": [
  {
   "cell_type": "markdown",
   "metadata": {
    "id": "aLG-LikCVnvz"
   },
   "source": [
    "### Sales Prediction for Big Mart Outlets\n",
    "\n",
    "The data scientists at BigMart have collected 2013 sales data for 1559 products across 10 stores in different cities. Also, certain attributes of each product and store have been defined. The aim is to build a predictive model and predict the sales of each product at a particular outlet.\n",
    "\n",
    "Using this model, BigMart will try to understand the properties of products and outlets which play a key role in increasing sales.\n",
    "\n",
    "Please note that the data may have missing values as some stores might not report all the data due to technical glitches. Hence, it will be required to treat them accordingly."
   ]
  },
  {
   "cell_type": "markdown",
   "metadata": {
    "id": "qUGHhKBeVnv1"
   },
   "source": [
    "#### Pre-processing Steps\n",
    "1. Filling the missing values\n",
    "2. Converting categories to numbers\n",
    "3. Bring all the variables in range 0 to 1"
   ]
  },
  {
   "cell_type": "code",
   "execution_count": 1,
   "metadata": {
    "id": "Up_PiL6aVnv4"
   },
   "outputs": [],
   "source": [
    "import pandas as pd\n",
    "import numpy as np\n",
    "import seaborn as sns\n",
    "import matplotlib.pyplot as plt\n",
    "%matplotlib inline\n",
    "\n",
    "import scipy as scp"
   ]
  },
  {
   "cell_type": "code",
   "execution_count": 2,
   "metadata": {
    "colab": {
     "base_uri": "https://localhost:8080/",
     "height": 213
    },
    "id": "N43dHW3JVnwA",
    "outputId": "536f51c9-1710-4087-e398-f015561c766a"
   },
   "outputs": [
    {
     "data": {
      "text/html": [
       "<div>\n",
       "<style scoped>\n",
       "    .dataframe tbody tr th:only-of-type {\n",
       "        vertical-align: middle;\n",
       "    }\n",
       "\n",
       "    .dataframe tbody tr th {\n",
       "        vertical-align: top;\n",
       "    }\n",
       "\n",
       "    .dataframe thead th {\n",
       "        text-align: right;\n",
       "    }\n",
       "</style>\n",
       "<table border=\"1\" class=\"dataframe\">\n",
       "  <thead>\n",
       "    <tr style=\"text-align: right;\">\n",
       "      <th></th>\n",
       "      <th>Item_Identifier</th>\n",
       "      <th>Item_Weight</th>\n",
       "      <th>Item_Fat_Content</th>\n",
       "      <th>Item_Visibility</th>\n",
       "      <th>Item_Type</th>\n",
       "      <th>Item_MRP</th>\n",
       "      <th>Outlet_Identifier</th>\n",
       "      <th>Outlet_Establishment_Year</th>\n",
       "      <th>Outlet_Size</th>\n",
       "      <th>Outlet_Location_Type</th>\n",
       "      <th>Outlet_Type</th>\n",
       "      <th>Item_Outlet_Sales</th>\n",
       "    </tr>\n",
       "  </thead>\n",
       "  <tbody>\n",
       "    <tr>\n",
       "      <th>0</th>\n",
       "      <td>FDA15</td>\n",
       "      <td>9.30</td>\n",
       "      <td>Low Fat</td>\n",
       "      <td>0.016047</td>\n",
       "      <td>Dairy</td>\n",
       "      <td>249.8092</td>\n",
       "      <td>OUT049</td>\n",
       "      <td>1999</td>\n",
       "      <td>Medium</td>\n",
       "      <td>Tier 1</td>\n",
       "      <td>Supermarket Type1</td>\n",
       "      <td>3735.1380</td>\n",
       "    </tr>\n",
       "    <tr>\n",
       "      <th>1</th>\n",
       "      <td>DRC01</td>\n",
       "      <td>5.92</td>\n",
       "      <td>Regular</td>\n",
       "      <td>0.019278</td>\n",
       "      <td>Soft Drinks</td>\n",
       "      <td>48.2692</td>\n",
       "      <td>OUT018</td>\n",
       "      <td>2009</td>\n",
       "      <td>Medium</td>\n",
       "      <td>Tier 3</td>\n",
       "      <td>Supermarket Type2</td>\n",
       "      <td>443.4228</td>\n",
       "    </tr>\n",
       "    <tr>\n",
       "      <th>2</th>\n",
       "      <td>FDN15</td>\n",
       "      <td>17.50</td>\n",
       "      <td>Low Fat</td>\n",
       "      <td>0.016760</td>\n",
       "      <td>Meat</td>\n",
       "      <td>141.6180</td>\n",
       "      <td>OUT049</td>\n",
       "      <td>1999</td>\n",
       "      <td>Medium</td>\n",
       "      <td>Tier 1</td>\n",
       "      <td>Supermarket Type1</td>\n",
       "      <td>2097.2700</td>\n",
       "    </tr>\n",
       "  </tbody>\n",
       "</table>\n",
       "</div>"
      ],
      "text/plain": [
       "  Item_Identifier  Item_Weight  ...        Outlet_Type  Item_Outlet_Sales\n",
       "0           FDA15         9.30  ...  Supermarket Type1          3735.1380\n",
       "1           DRC01         5.92  ...  Supermarket Type2           443.4228\n",
       "2           FDN15        17.50  ...  Supermarket Type1          2097.2700\n",
       "\n",
       "[3 rows x 12 columns]"
      ]
     },
     "execution_count": 2,
     "metadata": {
      "tags": []
     },
     "output_type": "execute_result"
    }
   ],
   "source": [
    "train_df=pd.read_csv('train.csv')\n",
    "train_df.head(3)"
   ]
  },
  {
   "cell_type": "code",
   "execution_count": 3,
   "metadata": {
    "colab": {
     "base_uri": "https://localhost:8080/"
    },
    "id": "oCgDGzkrVnwH",
    "outputId": "b3083553-7b7f-4d2f-fadf-45f33bb60682"
   },
   "outputs": [
    {
     "data": {
      "text/plain": [
       "(8523, 12)"
      ]
     },
     "execution_count": 3,
     "metadata": {
      "tags": []
     },
     "output_type": "execute_result"
    }
   ],
   "source": [
    "train_df.shape"
   ]
  },
  {
   "cell_type": "code",
   "execution_count": 4,
   "metadata": {
    "id": "5ZxWwqOAVnwK"
   },
   "outputs": [],
   "source": [
    "train_df.columns=train_df.columns.str.strip().str.lower()"
   ]
  },
  {
   "cell_type": "code",
   "execution_count": 5,
   "metadata": {
    "colab": {
     "base_uri": "https://localhost:8080/"
    },
    "id": "DiBxN9ZYVnwO",
    "outputId": "b6875fd4-46c9-46ea-907c-92dee406a307"
   },
   "outputs": [
    {
     "data": {
      "text/plain": [
       "Index(['item_identifier', 'item_weight', 'item_fat_content', 'item_visibility',\n",
       "       'item_type', 'item_mrp', 'outlet_identifier',\n",
       "       'outlet_establishment_year', 'outlet_size', 'outlet_location_type',\n",
       "       'outlet_type', 'item_outlet_sales'],\n",
       "      dtype='object')"
      ]
     },
     "execution_count": 5,
     "metadata": {
      "tags": []
     },
     "output_type": "execute_result"
    }
   ],
   "source": [
    "train_df.columns"
   ]
  },
  {
   "cell_type": "code",
   "execution_count": 6,
   "metadata": {
    "colab": {
     "base_uri": "https://localhost:8080/"
    },
    "id": "Kv_c0vOLVnwT",
    "outputId": "4bd00a39-fbee-47d8-fa95-ae6d2ea15972"
   },
   "outputs": [
    {
     "data": {
      "text/plain": [
       "item_identifier               object\n",
       "item_weight                  float64\n",
       "item_fat_content              object\n",
       "item_visibility              float64\n",
       "item_type                     object\n",
       "item_mrp                     float64\n",
       "outlet_identifier             object\n",
       "outlet_establishment_year      int64\n",
       "outlet_size                   object\n",
       "outlet_location_type          object\n",
       "outlet_type                   object\n",
       "item_outlet_sales            float64\n",
       "dtype: object"
      ]
     },
     "execution_count": 6,
     "metadata": {
      "tags": []
     },
     "output_type": "execute_result"
    }
   ],
   "source": [
    "train_df.dtypes"
   ]
  },
  {
   "cell_type": "code",
   "execution_count": 7,
   "metadata": {
    "colab": {
     "base_uri": "https://localhost:8080/"
    },
    "id": "zXxYPxoXVnwW",
    "outputId": "72b95e13-40e0-4af4-8724-8c28dfd04a6a"
   },
   "outputs": [
    {
     "data": {
      "text/plain": [
       "False"
      ]
     },
     "execution_count": 7,
     "metadata": {
      "tags": []
     },
     "output_type": "execute_result"
    }
   ],
   "source": [
    "train_df.duplicated().any()"
   ]
  },
  {
   "cell_type": "code",
   "execution_count": 8,
   "metadata": {
    "colab": {
     "base_uri": "https://localhost:8080/"
    },
    "id": "VBV6TLE-Vnwb",
    "outputId": "10ad4166-2875-4139-993c-73bb35e8b335"
   },
   "outputs": [
    {
     "data": {
      "text/plain": [
       "item_identifier                 0\n",
       "item_weight                  1463\n",
       "item_fat_content                0\n",
       "item_visibility                 0\n",
       "item_type                       0\n",
       "item_mrp                        0\n",
       "outlet_identifier               0\n",
       "outlet_establishment_year       0\n",
       "outlet_size                  2410\n",
       "outlet_location_type            0\n",
       "outlet_type                     0\n",
       "item_outlet_sales               0\n",
       "dtype: int64"
      ]
     },
     "execution_count": 8,
     "metadata": {
      "tags": []
     },
     "output_type": "execute_result"
    }
   ],
   "source": [
    "train_df.isna().sum()"
   ]
  },
  {
   "cell_type": "code",
   "execution_count": 9,
   "metadata": {
    "colab": {
     "base_uri": "https://localhost:8080/"
    },
    "id": "UdxXT5W1Vnwe",
    "outputId": "37897ac7-ba85-4c57-e868-900d76192974"
   },
   "outputs": [
    {
     "name": "stdout",
     "output_type": "stream",
     "text": [
      "<class 'pandas.core.frame.DataFrame'>\n",
      "RangeIndex: 8523 entries, 0 to 8522\n",
      "Data columns (total 12 columns):\n",
      " #   Column                     Non-Null Count  Dtype  \n",
      "---  ------                     --------------  -----  \n",
      " 0   item_identifier            8523 non-null   object \n",
      " 1   item_weight                7060 non-null   float64\n",
      " 2   item_fat_content           8523 non-null   object \n",
      " 3   item_visibility            8523 non-null   float64\n",
      " 4   item_type                  8523 non-null   object \n",
      " 5   item_mrp                   8523 non-null   float64\n",
      " 6   outlet_identifier          8523 non-null   object \n",
      " 7   outlet_establishment_year  8523 non-null   int64  \n",
      " 8   outlet_size                6113 non-null   object \n",
      " 9   outlet_location_type       8523 non-null   object \n",
      " 10  outlet_type                8523 non-null   object \n",
      " 11  item_outlet_sales          8523 non-null   float64\n",
      "dtypes: float64(4), int64(1), object(7)\n",
      "memory usage: 799.2+ KB\n"
     ]
    }
   ],
   "source": [
    "train_df.info()"
   ]
  },
  {
   "cell_type": "markdown",
   "metadata": {
    "id": "ehWPQ-LZVnwi"
   },
   "source": [
    "## 1. Filling the missing values"
   ]
  },
  {
   "cell_type": "markdown",
   "metadata": {
    "id": "nypAABd2Vnwi"
   },
   "source": [
    "#### filling  Categorical Data: Mode,median"
   ]
  },
  {
   "cell_type": "code",
   "execution_count": 10,
   "metadata": {
    "id": "5PO68lXhVnwj"
   },
   "outputs": [],
   "source": [
    "train_df['outlet_size'].fillna(train_df['outlet_size'].mode()[0],inplace=True)"
   ]
  },
  {
   "cell_type": "code",
   "execution_count": 11,
   "metadata": {
    "id": "JXeRUvMzVnwn"
   },
   "outputs": [],
   "source": [
    "train_df['item_weight'].fillna(train_df['item_weight'].median(),inplace=True)"
   ]
  },
  {
   "cell_type": "code",
   "execution_count": 12,
   "metadata": {
    "colab": {
     "base_uri": "https://localhost:8080/"
    },
    "id": "OmO83rP5Vnwq",
    "outputId": "7e4dc024-2d13-4b85-aca1-1d6acaa2f5e2"
   },
   "outputs": [
    {
     "data": {
      "text/plain": [
       "item_identifier              0\n",
       "item_weight                  0\n",
       "item_fat_content             0\n",
       "item_visibility              0\n",
       "item_type                    0\n",
       "item_mrp                     0\n",
       "outlet_identifier            0\n",
       "outlet_establishment_year    0\n",
       "outlet_size                  0\n",
       "outlet_location_type         0\n",
       "outlet_type                  0\n",
       "item_outlet_sales            0\n",
       "dtype: int64"
      ]
     },
     "execution_count": 12,
     "metadata": {
      "tags": []
     },
     "output_type": "execute_result"
    }
   ],
   "source": [
    "train_df.isna().sum()"
   ]
  },
  {
   "cell_type": "code",
   "execution_count": 13,
   "metadata": {
    "colab": {
     "base_uri": "https://localhost:8080/"
    },
    "id": "yxYfIJq4Vnwt",
    "outputId": "0c8a77de-76e8-4b0d-eb47-40b93e696a64"
   },
   "outputs": [
    {
     "data": {
      "text/plain": [
       "Fruits and Vegetables    1232\n",
       "Snack Foods              1200\n",
       "Household                 910\n",
       "Frozen Foods              856\n",
       "Dairy                     682\n",
       "Canned                    649\n",
       "Baking Goods              648\n",
       "Health and Hygiene        520\n",
       "Soft Drinks               445\n",
       "Meat                      425\n",
       "Breads                    251\n",
       "Hard Drinks               214\n",
       "Others                    169\n",
       "Starchy Foods             148\n",
       "Breakfast                 110\n",
       "Seafood                    64\n",
       "Name: item_type, dtype: int64"
      ]
     },
     "execution_count": 13,
     "metadata": {
      "tags": []
     },
     "output_type": "execute_result"
    }
   ],
   "source": [
    "train_df['item_type'].value_counts()"
   ]
  },
  {
   "cell_type": "code",
   "execution_count": 14,
   "metadata": {
    "colab": {
     "base_uri": "https://localhost:8080/"
    },
    "id": "uxhhBL67Vnwx",
    "outputId": "9bc93876-5a67-4fe6-984c-b34005e9f194"
   },
   "outputs": [
    {
     "data": {
      "text/plain": [
       "Medium    5203\n",
       "Small     2388\n",
       "High       932\n",
       "Name: outlet_size, dtype: int64"
      ]
     },
     "execution_count": 14,
     "metadata": {
      "tags": []
     },
     "output_type": "execute_result"
    }
   ],
   "source": [
    "train_df['outlet_size'].value_counts()"
   ]
  },
  {
   "cell_type": "code",
   "execution_count": 15,
   "metadata": {
    "colab": {
     "base_uri": "https://localhost:8080/"
    },
    "id": "utZ-Fob9Vnw0",
    "outputId": "d67f3118-a596-4c82-f183-ca3daef8b884"
   },
   "outputs": [
    {
     "data": {
      "text/plain": [
       "Supermarket Type1    5577\n",
       "Grocery Store        1083\n",
       "Supermarket Type3     935\n",
       "Supermarket Type2     928\n",
       "Name: outlet_type, dtype: int64"
      ]
     },
     "execution_count": 15,
     "metadata": {
      "tags": []
     },
     "output_type": "execute_result"
    }
   ],
   "source": [
    "train_df['outlet_type'].value_counts()"
   ]
  },
  {
   "cell_type": "code",
   "execution_count": 16,
   "metadata": {
    "colab": {
     "base_uri": "https://localhost:8080/"
    },
    "id": "9uhE3BVrVnw4",
    "outputId": "2fa43d99-d62c-477b-f027-1ca7a70ecd1f"
   },
   "outputs": [
    {
     "data": {
      "text/plain": [
       "Tier 3    3350\n",
       "Tier 2    2785\n",
       "Tier 1    2388\n",
       "Name: outlet_location_type, dtype: int64"
      ]
     },
     "execution_count": 16,
     "metadata": {
      "tags": []
     },
     "output_type": "execute_result"
    }
   ],
   "source": [
    "train_df['outlet_location_type'].value_counts()"
   ]
  },
  {
   "cell_type": "code",
   "execution_count": 17,
   "metadata": {
    "colab": {
     "base_uri": "https://localhost:8080/"
    },
    "id": "atFZhEZlVnw7",
    "outputId": "c34ee471-4087-4e67-951c-88c19ca7c063"
   },
   "outputs": [
    {
     "data": {
      "text/plain": [
       "OUT027    935\n",
       "OUT013    932\n",
       "OUT046    930\n",
       "OUT035    930\n",
       "OUT049    930\n",
       "OUT045    929\n",
       "OUT018    928\n",
       "OUT017    926\n",
       "OUT010    555\n",
       "OUT019    528\n",
       "Name: outlet_identifier, dtype: int64"
      ]
     },
     "execution_count": 17,
     "metadata": {
      "tags": []
     },
     "output_type": "execute_result"
    }
   ],
   "source": [
    "train_df['outlet_identifier'].value_counts()"
   ]
  },
  {
   "cell_type": "code",
   "execution_count": 17,
   "metadata": {
    "id": "_3RvRfkSVnw-"
   },
   "outputs": [],
   "source": []
  },
  {
   "cell_type": "markdown",
   "metadata": {
    "id": "-raGTRCmVnxC"
   },
   "source": [
    "## 2. Converting categories to numbers"
   ]
  },
  {
   "cell_type": "code",
   "execution_count": 18,
   "metadata": {
    "id": "8FbbJJWNVnxD"
   },
   "outputs": [],
   "source": [
    "train_df['item_fat_content']=train_df['item_fat_content'].map({'Low Fat':0,'Regular':1,'LF':2,'reg':3,'low fat':4})\n",
    "\n",
    "\n",
    "train_df['item_type']=train_df['item_type'].map({'Fruits and Vegetables':0,'Snack Foods':1,'Household':2,'Frozen Foods':3,'Dairy':4,'Canned':5,'Baking Goods':6,'Health and Hygiene':7,'Soft Drinks':8,'Meat':9,'Breads':10,'Hard Drinks':11,'Others':12,'Starchy Foods':13,'Breakfast':14,'Seafood':15})\n",
    "\n",
    "\n",
    "\n",
    "\n",
    "train_df['outlet_size']=train_df['outlet_size'].map({'Medium':0,'Small':1,'High':2})\n",
    "\n",
    "train_df['outlet_type']=train_df['outlet_type'].map({'Supermarket Type1':0,'Grocery Store':1,'Supermarket Type3':2,'Supermarket Type2':3})\n",
    "\n",
    "train_df['outlet_location_type']=train_df['outlet_location_type'].map({'Tier 1':0,'Tier 2':1,'Tier 3':2})\n",
    "\n",
    "train_df['outlet_identifier']=train_df['outlet_identifier'].map({'OUT027':0,'OUT013':1,'OUT046':2,'OUT049':3,'OUT035':4,'OUT045':5,'OUT018':6,'OUT017':7,'OUT010':8,'OUT019':9})"
   ]
  },
  {
   "cell_type": "code",
   "execution_count": 19,
   "metadata": {
    "colab": {
     "base_uri": "https://localhost:8080/",
     "height": 224
    },
    "id": "yWqAp7v1VnxG",
    "outputId": "4648997c-e8de-4701-9653-0279b3484601"
   },
   "outputs": [
    {
     "data": {
      "text/html": [
       "<div>\n",
       "<style scoped>\n",
       "    .dataframe tbody tr th:only-of-type {\n",
       "        vertical-align: middle;\n",
       "    }\n",
       "\n",
       "    .dataframe tbody tr th {\n",
       "        vertical-align: top;\n",
       "    }\n",
       "\n",
       "    .dataframe thead th {\n",
       "        text-align: right;\n",
       "    }\n",
       "</style>\n",
       "<table border=\"1\" class=\"dataframe\">\n",
       "  <thead>\n",
       "    <tr style=\"text-align: right;\">\n",
       "      <th></th>\n",
       "      <th>item_identifier</th>\n",
       "      <th>item_weight</th>\n",
       "      <th>item_fat_content</th>\n",
       "      <th>item_visibility</th>\n",
       "      <th>item_type</th>\n",
       "      <th>item_mrp</th>\n",
       "      <th>outlet_identifier</th>\n",
       "      <th>outlet_establishment_year</th>\n",
       "      <th>outlet_size</th>\n",
       "      <th>outlet_location_type</th>\n",
       "      <th>outlet_type</th>\n",
       "      <th>item_outlet_sales</th>\n",
       "    </tr>\n",
       "  </thead>\n",
       "  <tbody>\n",
       "    <tr>\n",
       "      <th>0</th>\n",
       "      <td>FDA15</td>\n",
       "      <td>9.30</td>\n",
       "      <td>0</td>\n",
       "      <td>0.016047</td>\n",
       "      <td>4</td>\n",
       "      <td>249.8092</td>\n",
       "      <td>3</td>\n",
       "      <td>1999</td>\n",
       "      <td>0</td>\n",
       "      <td>0</td>\n",
       "      <td>0</td>\n",
       "      <td>3735.1380</td>\n",
       "    </tr>\n",
       "    <tr>\n",
       "      <th>1</th>\n",
       "      <td>DRC01</td>\n",
       "      <td>5.92</td>\n",
       "      <td>1</td>\n",
       "      <td>0.019278</td>\n",
       "      <td>8</td>\n",
       "      <td>48.2692</td>\n",
       "      <td>6</td>\n",
       "      <td>2009</td>\n",
       "      <td>0</td>\n",
       "      <td>2</td>\n",
       "      <td>3</td>\n",
       "      <td>443.4228</td>\n",
       "    </tr>\n",
       "    <tr>\n",
       "      <th>2</th>\n",
       "      <td>FDN15</td>\n",
       "      <td>17.50</td>\n",
       "      <td>0</td>\n",
       "      <td>0.016760</td>\n",
       "      <td>9</td>\n",
       "      <td>141.6180</td>\n",
       "      <td>3</td>\n",
       "      <td>1999</td>\n",
       "      <td>0</td>\n",
       "      <td>0</td>\n",
       "      <td>0</td>\n",
       "      <td>2097.2700</td>\n",
       "    </tr>\n",
       "    <tr>\n",
       "      <th>3</th>\n",
       "      <td>FDX07</td>\n",
       "      <td>19.20</td>\n",
       "      <td>1</td>\n",
       "      <td>0.000000</td>\n",
       "      <td>0</td>\n",
       "      <td>182.0950</td>\n",
       "      <td>8</td>\n",
       "      <td>1998</td>\n",
       "      <td>0</td>\n",
       "      <td>2</td>\n",
       "      <td>1</td>\n",
       "      <td>732.3800</td>\n",
       "    </tr>\n",
       "    <tr>\n",
       "      <th>4</th>\n",
       "      <td>NCD19</td>\n",
       "      <td>8.93</td>\n",
       "      <td>0</td>\n",
       "      <td>0.000000</td>\n",
       "      <td>2</td>\n",
       "      <td>53.8614</td>\n",
       "      <td>1</td>\n",
       "      <td>1987</td>\n",
       "      <td>2</td>\n",
       "      <td>2</td>\n",
       "      <td>0</td>\n",
       "      <td>994.7052</td>\n",
       "    </tr>\n",
       "  </tbody>\n",
       "</table>\n",
       "</div>"
      ],
      "text/plain": [
       "  item_identifier  item_weight  ...  outlet_type  item_outlet_sales\n",
       "0           FDA15         9.30  ...            0          3735.1380\n",
       "1           DRC01         5.92  ...            3           443.4228\n",
       "2           FDN15        17.50  ...            0          2097.2700\n",
       "3           FDX07        19.20  ...            1           732.3800\n",
       "4           NCD19         8.93  ...            0           994.7052\n",
       "\n",
       "[5 rows x 12 columns]"
      ]
     },
     "execution_count": 19,
     "metadata": {
      "tags": []
     },
     "output_type": "execute_result"
    }
   ],
   "source": [
    "train_df.head()"
   ]
  },
  {
   "cell_type": "markdown",
   "metadata": {
    "id": "TGETUWAjVnxJ"
   },
   "source": [
    "## 3. Bringing all the variables in range 0 to 1\n",
    "\n",
    "#<img src='https://drive.google.com/uc?id=1Z7wN2BE8CDSYIJly5l0K9uqYdj9WUo3f'>"
   ]
  },
  {
   "cell_type": "code",
   "execution_count": 20,
   "metadata": {
    "id": "lJJu6vx1VnxK"
   },
   "outputs": [],
   "source": [
    "for i in train_df.columns[1:]:\n",
    "    train_df[i]=(train_df[i]-train_df[i].min())/(train_df[i].max()-train_df[i].min())"
   ]
  },
  {
   "cell_type": "code",
   "execution_count": 21,
   "metadata": {
    "colab": {
     "base_uri": "https://localhost:8080/",
     "height": 224
    },
    "id": "55f5pUnHVnxN",
    "outputId": "6754963f-5868-4ffd-a7ad-91267ce86a73"
   },
   "outputs": [
    {
     "data": {
      "text/html": [
       "<div>\n",
       "<style scoped>\n",
       "    .dataframe tbody tr th:only-of-type {\n",
       "        vertical-align: middle;\n",
       "    }\n",
       "\n",
       "    .dataframe tbody tr th {\n",
       "        vertical-align: top;\n",
       "    }\n",
       "\n",
       "    .dataframe thead th {\n",
       "        text-align: right;\n",
       "    }\n",
       "</style>\n",
       "<table border=\"1\" class=\"dataframe\">\n",
       "  <thead>\n",
       "    <tr style=\"text-align: right;\">\n",
       "      <th></th>\n",
       "      <th>item_identifier</th>\n",
       "      <th>item_weight</th>\n",
       "      <th>item_fat_content</th>\n",
       "      <th>item_visibility</th>\n",
       "      <th>item_type</th>\n",
       "      <th>item_mrp</th>\n",
       "      <th>outlet_identifier</th>\n",
       "      <th>outlet_establishment_year</th>\n",
       "      <th>outlet_size</th>\n",
       "      <th>outlet_location_type</th>\n",
       "      <th>outlet_type</th>\n",
       "      <th>item_outlet_sales</th>\n",
       "    </tr>\n",
       "  </thead>\n",
       "  <tbody>\n",
       "    <tr>\n",
       "      <th>0</th>\n",
       "      <td>FDA15</td>\n",
       "      <td>0.282525</td>\n",
       "      <td>0.00</td>\n",
       "      <td>0.048866</td>\n",
       "      <td>0.266667</td>\n",
       "      <td>0.927507</td>\n",
       "      <td>0.333333</td>\n",
       "      <td>0.583333</td>\n",
       "      <td>0.0</td>\n",
       "      <td>0.0</td>\n",
       "      <td>0.000000</td>\n",
       "      <td>0.283587</td>\n",
       "    </tr>\n",
       "    <tr>\n",
       "      <th>1</th>\n",
       "      <td>DRC01</td>\n",
       "      <td>0.081274</td>\n",
       "      <td>0.25</td>\n",
       "      <td>0.058705</td>\n",
       "      <td>0.533333</td>\n",
       "      <td>0.072068</td>\n",
       "      <td>0.666667</td>\n",
       "      <td>1.000000</td>\n",
       "      <td>0.0</td>\n",
       "      <td>1.0</td>\n",
       "      <td>1.000000</td>\n",
       "      <td>0.031419</td>\n",
       "    </tr>\n",
       "    <tr>\n",
       "      <th>2</th>\n",
       "      <td>FDN15</td>\n",
       "      <td>0.770765</td>\n",
       "      <td>0.00</td>\n",
       "      <td>0.051037</td>\n",
       "      <td>0.600000</td>\n",
       "      <td>0.468288</td>\n",
       "      <td>0.333333</td>\n",
       "      <td>0.583333</td>\n",
       "      <td>0.0</td>\n",
       "      <td>0.0</td>\n",
       "      <td>0.000000</td>\n",
       "      <td>0.158115</td>\n",
       "    </tr>\n",
       "    <tr>\n",
       "      <th>3</th>\n",
       "      <td>FDX07</td>\n",
       "      <td>0.871986</td>\n",
       "      <td>0.25</td>\n",
       "      <td>0.000000</td>\n",
       "      <td>0.000000</td>\n",
       "      <td>0.640093</td>\n",
       "      <td>0.888889</td>\n",
       "      <td>0.541667</td>\n",
       "      <td>0.0</td>\n",
       "      <td>1.0</td>\n",
       "      <td>0.333333</td>\n",
       "      <td>0.053555</td>\n",
       "    </tr>\n",
       "    <tr>\n",
       "      <th>4</th>\n",
       "      <td>NCD19</td>\n",
       "      <td>0.260494</td>\n",
       "      <td>0.00</td>\n",
       "      <td>0.000000</td>\n",
       "      <td>0.133333</td>\n",
       "      <td>0.095805</td>\n",
       "      <td>0.111111</td>\n",
       "      <td>0.083333</td>\n",
       "      <td>1.0</td>\n",
       "      <td>1.0</td>\n",
       "      <td>0.000000</td>\n",
       "      <td>0.073651</td>\n",
       "    </tr>\n",
       "  </tbody>\n",
       "</table>\n",
       "</div>"
      ],
      "text/plain": [
       "  item_identifier  item_weight  ...  outlet_type  item_outlet_sales\n",
       "0           FDA15     0.282525  ...     0.000000           0.283587\n",
       "1           DRC01     0.081274  ...     1.000000           0.031419\n",
       "2           FDN15     0.770765  ...     0.000000           0.158115\n",
       "3           FDX07     0.871986  ...     0.333333           0.053555\n",
       "4           NCD19     0.260494  ...     0.000000           0.073651\n",
       "\n",
       "[5 rows x 12 columns]"
      ]
     },
     "execution_count": 21,
     "metadata": {
      "tags": []
     },
     "output_type": "execute_result"
    }
   ],
   "source": [
    "train_df.head()"
   ]
  },
  {
   "cell_type": "code",
   "execution_count": 21,
   "metadata": {
    "id": "pMKFIPmGVnxS"
   },
   "outputs": [],
   "source": []
  },
  {
   "cell_type": "markdown",
   "metadata": {
    "id": "ANJdj165VnxW"
   },
   "source": [
    "# Steps to build a Neural Network using Keras\n",
    "\n",
    "<ol>1. Loading the dataset</ol>\n",
    "<ol>2. Creating training and validation set</ol>\n",
    "<ol>3. Defining the architecture of the model</ol>\n",
    "<ol>4. Compiling the model (defining loss function, optimizer)</ol>\n",
    "<ol>5. Training the model</ol>\n",
    "<ol>6. Evaluating model performance on training and validation set</ol>"
   ]
  },
  {
   "cell_type": "code",
   "execution_count": 22,
   "metadata": {
    "id": "sDcq8NBiVnxX"
   },
   "outputs": [],
   "source": [
    "# importing the required libraries\n",
    "import pandas as pd\n",
    "import numpy as np\n",
    "import sklearn\n",
    "from sklearn.model_selection import train_test_split\n",
    "from sklearn.metrics import accuracy_score,mean_absolute_error,mean_squared_error\n",
    "import matplotlib.pyplot as plt\n",
    "%matplotlib inline"
   ]
  },
  {
   "cell_type": "code",
   "execution_count": 23,
   "metadata": {
    "colab": {
     "base_uri": "https://localhost:8080/",
     "height": 224
    },
    "id": "sAtT8G5WVnxb",
    "outputId": "7493e85c-f4df-415f-ccbb-5383064fd940"
   },
   "outputs": [
    {
     "data": {
      "text/html": [
       "<div>\n",
       "<style scoped>\n",
       "    .dataframe tbody tr th:only-of-type {\n",
       "        vertical-align: middle;\n",
       "    }\n",
       "\n",
       "    .dataframe tbody tr th {\n",
       "        vertical-align: top;\n",
       "    }\n",
       "\n",
       "    .dataframe thead th {\n",
       "        text-align: right;\n",
       "    }\n",
       "</style>\n",
       "<table border=\"1\" class=\"dataframe\">\n",
       "  <thead>\n",
       "    <tr style=\"text-align: right;\">\n",
       "      <th></th>\n",
       "      <th>item_identifier</th>\n",
       "      <th>item_weight</th>\n",
       "      <th>item_fat_content</th>\n",
       "      <th>item_visibility</th>\n",
       "      <th>item_type</th>\n",
       "      <th>item_mrp</th>\n",
       "      <th>outlet_identifier</th>\n",
       "      <th>outlet_establishment_year</th>\n",
       "      <th>outlet_size</th>\n",
       "      <th>outlet_location_type</th>\n",
       "      <th>outlet_type</th>\n",
       "      <th>item_outlet_sales</th>\n",
       "    </tr>\n",
       "  </thead>\n",
       "  <tbody>\n",
       "    <tr>\n",
       "      <th>0</th>\n",
       "      <td>FDA15</td>\n",
       "      <td>0.282525</td>\n",
       "      <td>0.00</td>\n",
       "      <td>0.048866</td>\n",
       "      <td>0.266667</td>\n",
       "      <td>0.927507</td>\n",
       "      <td>0.333333</td>\n",
       "      <td>0.583333</td>\n",
       "      <td>0.0</td>\n",
       "      <td>0.0</td>\n",
       "      <td>0.000000</td>\n",
       "      <td>0.283587</td>\n",
       "    </tr>\n",
       "    <tr>\n",
       "      <th>1</th>\n",
       "      <td>DRC01</td>\n",
       "      <td>0.081274</td>\n",
       "      <td>0.25</td>\n",
       "      <td>0.058705</td>\n",
       "      <td>0.533333</td>\n",
       "      <td>0.072068</td>\n",
       "      <td>0.666667</td>\n",
       "      <td>1.000000</td>\n",
       "      <td>0.0</td>\n",
       "      <td>1.0</td>\n",
       "      <td>1.000000</td>\n",
       "      <td>0.031419</td>\n",
       "    </tr>\n",
       "    <tr>\n",
       "      <th>2</th>\n",
       "      <td>FDN15</td>\n",
       "      <td>0.770765</td>\n",
       "      <td>0.00</td>\n",
       "      <td>0.051037</td>\n",
       "      <td>0.600000</td>\n",
       "      <td>0.468288</td>\n",
       "      <td>0.333333</td>\n",
       "      <td>0.583333</td>\n",
       "      <td>0.0</td>\n",
       "      <td>0.0</td>\n",
       "      <td>0.000000</td>\n",
       "      <td>0.158115</td>\n",
       "    </tr>\n",
       "    <tr>\n",
       "      <th>3</th>\n",
       "      <td>FDX07</td>\n",
       "      <td>0.871986</td>\n",
       "      <td>0.25</td>\n",
       "      <td>0.000000</td>\n",
       "      <td>0.000000</td>\n",
       "      <td>0.640093</td>\n",
       "      <td>0.888889</td>\n",
       "      <td>0.541667</td>\n",
       "      <td>0.0</td>\n",
       "      <td>1.0</td>\n",
       "      <td>0.333333</td>\n",
       "      <td>0.053555</td>\n",
       "    </tr>\n",
       "    <tr>\n",
       "      <th>4</th>\n",
       "      <td>NCD19</td>\n",
       "      <td>0.260494</td>\n",
       "      <td>0.00</td>\n",
       "      <td>0.000000</td>\n",
       "      <td>0.133333</td>\n",
       "      <td>0.095805</td>\n",
       "      <td>0.111111</td>\n",
       "      <td>0.083333</td>\n",
       "      <td>1.0</td>\n",
       "      <td>1.0</td>\n",
       "      <td>0.000000</td>\n",
       "      <td>0.073651</td>\n",
       "    </tr>\n",
       "  </tbody>\n",
       "</table>\n",
       "</div>"
      ],
      "text/plain": [
       "  item_identifier  item_weight  ...  outlet_type  item_outlet_sales\n",
       "0           FDA15     0.282525  ...     0.000000           0.283587\n",
       "1           DRC01     0.081274  ...     1.000000           0.031419\n",
       "2           FDN15     0.770765  ...     0.000000           0.158115\n",
       "3           FDX07     0.871986  ...     0.333333           0.053555\n",
       "4           NCD19     0.260494  ...     0.000000           0.073651\n",
       "\n",
       "[5 rows x 12 columns]"
      ]
     },
     "execution_count": 23,
     "metadata": {
      "tags": []
     },
     "output_type": "execute_result"
    }
   ],
   "source": [
    "train_df.head()"
   ]
  },
  {
   "cell_type": "code",
   "execution_count": 24,
   "metadata": {
    "id": "hzSDgHv3Vnxg"
   },
   "outputs": [],
   "source": [
    "train_df.drop(columns=['item_identifier'],axis=1,inplace=True)"
   ]
  },
  {
   "cell_type": "code",
   "execution_count": 25,
   "metadata": {
    "colab": {
     "base_uri": "https://localhost:8080/",
     "height": 224
    },
    "id": "dyLmTRvKVnxj",
    "outputId": "5fa98ffa-8fb8-4477-dca1-d6b2731882a6"
   },
   "outputs": [
    {
     "data": {
      "text/html": [
       "<div>\n",
       "<style scoped>\n",
       "    .dataframe tbody tr th:only-of-type {\n",
       "        vertical-align: middle;\n",
       "    }\n",
       "\n",
       "    .dataframe tbody tr th {\n",
       "        vertical-align: top;\n",
       "    }\n",
       "\n",
       "    .dataframe thead th {\n",
       "        text-align: right;\n",
       "    }\n",
       "</style>\n",
       "<table border=\"1\" class=\"dataframe\">\n",
       "  <thead>\n",
       "    <tr style=\"text-align: right;\">\n",
       "      <th></th>\n",
       "      <th>item_weight</th>\n",
       "      <th>item_fat_content</th>\n",
       "      <th>item_visibility</th>\n",
       "      <th>item_type</th>\n",
       "      <th>item_mrp</th>\n",
       "      <th>outlet_identifier</th>\n",
       "      <th>outlet_establishment_year</th>\n",
       "      <th>outlet_size</th>\n",
       "      <th>outlet_location_type</th>\n",
       "      <th>outlet_type</th>\n",
       "      <th>item_outlet_sales</th>\n",
       "    </tr>\n",
       "  </thead>\n",
       "  <tbody>\n",
       "    <tr>\n",
       "      <th>0</th>\n",
       "      <td>0.282525</td>\n",
       "      <td>0.00</td>\n",
       "      <td>0.048866</td>\n",
       "      <td>0.266667</td>\n",
       "      <td>0.927507</td>\n",
       "      <td>0.333333</td>\n",
       "      <td>0.583333</td>\n",
       "      <td>0.0</td>\n",
       "      <td>0.0</td>\n",
       "      <td>0.000000</td>\n",
       "      <td>0.283587</td>\n",
       "    </tr>\n",
       "    <tr>\n",
       "      <th>1</th>\n",
       "      <td>0.081274</td>\n",
       "      <td>0.25</td>\n",
       "      <td>0.058705</td>\n",
       "      <td>0.533333</td>\n",
       "      <td>0.072068</td>\n",
       "      <td>0.666667</td>\n",
       "      <td>1.000000</td>\n",
       "      <td>0.0</td>\n",
       "      <td>1.0</td>\n",
       "      <td>1.000000</td>\n",
       "      <td>0.031419</td>\n",
       "    </tr>\n",
       "    <tr>\n",
       "      <th>2</th>\n",
       "      <td>0.770765</td>\n",
       "      <td>0.00</td>\n",
       "      <td>0.051037</td>\n",
       "      <td>0.600000</td>\n",
       "      <td>0.468288</td>\n",
       "      <td>0.333333</td>\n",
       "      <td>0.583333</td>\n",
       "      <td>0.0</td>\n",
       "      <td>0.0</td>\n",
       "      <td>0.000000</td>\n",
       "      <td>0.158115</td>\n",
       "    </tr>\n",
       "    <tr>\n",
       "      <th>3</th>\n",
       "      <td>0.871986</td>\n",
       "      <td>0.25</td>\n",
       "      <td>0.000000</td>\n",
       "      <td>0.000000</td>\n",
       "      <td>0.640093</td>\n",
       "      <td>0.888889</td>\n",
       "      <td>0.541667</td>\n",
       "      <td>0.0</td>\n",
       "      <td>1.0</td>\n",
       "      <td>0.333333</td>\n",
       "      <td>0.053555</td>\n",
       "    </tr>\n",
       "    <tr>\n",
       "      <th>4</th>\n",
       "      <td>0.260494</td>\n",
       "      <td>0.00</td>\n",
       "      <td>0.000000</td>\n",
       "      <td>0.133333</td>\n",
       "      <td>0.095805</td>\n",
       "      <td>0.111111</td>\n",
       "      <td>0.083333</td>\n",
       "      <td>1.0</td>\n",
       "      <td>1.0</td>\n",
       "      <td>0.000000</td>\n",
       "      <td>0.073651</td>\n",
       "    </tr>\n",
       "  </tbody>\n",
       "</table>\n",
       "</div>"
      ],
      "text/plain": [
       "   item_weight  item_fat_content  ...  outlet_type  item_outlet_sales\n",
       "0     0.282525              0.00  ...     0.000000           0.283587\n",
       "1     0.081274              0.25  ...     1.000000           0.031419\n",
       "2     0.770765              0.00  ...     0.000000           0.158115\n",
       "3     0.871986              0.25  ...     0.333333           0.053555\n",
       "4     0.260494              0.00  ...     0.000000           0.073651\n",
       "\n",
       "[5 rows x 11 columns]"
      ]
     },
     "execution_count": 25,
     "metadata": {
      "tags": []
     },
     "output_type": "execute_result"
    }
   ],
   "source": [
    "train_df.head()"
   ]
  },
  {
   "cell_type": "code",
   "execution_count": 26,
   "metadata": {
    "id": "Au8CMEZHVnxn"
   },
   "outputs": [],
   "source": [
    "X=train_df.drop(columns=['item_outlet_sales'],axis=1)\n",
    "y=train_df.item_outlet_sales"
   ]
  },
  {
   "cell_type": "markdown",
   "metadata": {
    "id": "gnQDrRYoVnxq"
   },
   "source": [
    "## 2. Creating training and validation set"
   ]
  },
  {
   "cell_type": "code",
   "execution_count": 27,
   "metadata": {
    "id": "ISAZqjcqVnxq"
   },
   "outputs": [],
   "source": [
    "X_train,X_test,y_train,y_test=train_test_split(X,y,random_state=10,test_size=0.2)"
   ]
  },
  {
   "cell_type": "code",
   "execution_count": 28,
   "metadata": {
    "colab": {
     "base_uri": "https://localhost:8080/"
    },
    "id": "7IZUGaKJVnxu",
    "outputId": "3900b030-021e-4906-c2fa-dc1106d059c3"
   },
   "outputs": [
    {
     "data": {
      "text/plain": [
       "(((6818, 10), (6818,)), ((1705, 10), (1705,)))"
      ]
     },
     "execution_count": 28,
     "metadata": {
      "tags": []
     },
     "output_type": "execute_result"
    }
   ],
   "source": [
    "# shape of training and validation set\n",
    "(X_train.shape, y_train.shape), (X_test.shape, y_test.shape)"
   ]
  },
  {
   "cell_type": "code",
   "execution_count": 28,
   "metadata": {
    "id": "EXAMXbpzVnxx"
   },
   "outputs": [],
   "source": []
  },
  {
   "cell_type": "markdown",
   "metadata": {
    "id": "UYiOz-NPVnx0"
   },
   "source": [
    "## 3. Defining the architecture of the model"
   ]
  },
  {
   "cell_type": "code",
   "execution_count": 29,
   "metadata": {
    "id": "9IWV8m9wVnx1"
   },
   "outputs": [],
   "source": [
    "import keras\n",
    "import tensorflow\n",
    "from keras.models import Sequential # importing the sequential model\n",
    "# importing different layers from keras\n",
    "from keras.layers import InputLayer ,Dense"
   ]
  },
  {
   "cell_type": "code",
   "execution_count": 30,
   "metadata": {
    "colab": {
     "base_uri": "https://localhost:8080/"
    },
    "id": "A3ldBE1rVnx3",
    "outputId": "0d488bba-de11-4d94-a308-9b4a0d9935d7"
   },
   "outputs": [
    {
     "data": {
      "text/plain": [
       "(6818, 10)"
      ]
     },
     "execution_count": 30,
     "metadata": {
      "tags": []
     },
     "output_type": "execute_result"
    }
   ],
   "source": [
    "# number of input neurons\n",
    "X_train.shape"
   ]
  },
  {
   "cell_type": "code",
   "execution_count": 31,
   "metadata": {
    "colab": {
     "base_uri": "https://localhost:8080/"
    },
    "id": "n6qD9dpoVnx6",
    "outputId": "f62a49f8-17db-4307-89b2-3f3cfe077666"
   },
   "outputs": [
    {
     "data": {
      "text/plain": [
       "10"
      ]
     },
     "execution_count": 31,
     "metadata": {
      "tags": []
     },
     "output_type": "execute_result"
    }
   ],
   "source": [
    "# number of features in the data\n",
    "X_train.shape[1]"
   ]
  },
  {
   "cell_type": "code",
   "execution_count": 32,
   "metadata": {
    "id": "AWzAjMDaVnx-"
   },
   "outputs": [],
   "source": [
    "# defining input neurons\n",
    "input_neurons = X_train.shape[1]"
   ]
  },
  {
   "cell_type": "code",
   "execution_count": 33,
   "metadata": {
    "id": "0PBPDSqDVnyB"
   },
   "outputs": [],
   "source": [
    "# define number of output neurons\n",
    "output_neurons = 1"
   ]
  },
  {
   "cell_type": "code",
   "execution_count": 34,
   "metadata": {
    "id": "R4H6dqBtVnyE"
   },
   "outputs": [],
   "source": [
    "# number of hidden layers and hidden neurons\n",
    "\n",
    "# It is a hyperparameter and we can pick the hidden layers and hidden neurons on our own\n",
    "# define hidden layers and neuron in each layer\n",
    "number_of_hidden_layers = 2\n",
    "neuron_hidden_layer_1 = 5\n",
    "neuron_hidden_layer_2 = 2"
   ]
  },
  {
   "cell_type": "code",
   "execution_count": 35,
   "metadata": {
    "id": "DsG84jzjVnyH"
   },
   "outputs": [],
   "source": [
    "model=Sequential()\n",
    "model.add(InputLayer(input_shape=(input_neurons,)))\n",
    "model.add(Dense(units=neuron_hidden_layer_1,activation='relu'))\n",
    "model.add(Dense(units=neuron_hidden_layer_2,activation='relu'))\n",
    "model.add(Dense(units=output_neurons,activation='linear'))"
   ]
  },
  {
   "cell_type": "markdown",
   "metadata": {
    "id": "VNgnX21YVnyK"
   },
   "source": [
    "# 4. Compiling the model (defining loss function, optimizer)\n",
    "\n"
   ]
  },
  {
   "cell_type": "code",
   "execution_count": 36,
   "metadata": {
    "id": "LwQ6sY7vVnyK"
   },
   "outputs": [],
   "source": [
    "# compiling the model\n",
    "\n",
    "# loss as mse,rmse since we have regresion problem\n",
    "# defining the optimizer as adam\n",
    "# Evaluation metric as mse,mae\n",
    "model.compile(loss='mse',optimizer='adam',metrics=['mse','mae'])"
   ]
  },
  {
   "cell_type": "markdown",
   "metadata": {
    "id": "wls3GAcIVnyO"
   },
   "source": [
    "## 5. Training the model"
   ]
  },
  {
   "cell_type": "code",
   "execution_count": 37,
   "metadata": {
    "colab": {
     "base_uri": "https://localhost:8080/"
    },
    "id": "_m6rXO0bVnyR",
    "outputId": "669a576d-198b-4b9a-c360-8e2871416741"
   },
   "outputs": [
    {
     "name": "stdout",
     "output_type": "stream",
     "text": [
      "Epoch 1/50\n",
      "214/214 [==============================] - 1s 3ms/step - loss: 0.0317 - mse: 0.0317 - mae: 0.1334 - val_loss: 0.0175 - val_mse: 0.0175 - val_mae: 0.0993\n",
      "Epoch 2/50\n",
      "214/214 [==============================] - 1s 3ms/step - loss: 0.0152 - mse: 0.0152 - mae: 0.0955 - val_loss: 0.0145 - val_mse: 0.0145 - val_mae: 0.0946\n",
      "Epoch 3/50\n",
      "214/214 [==============================] - 1s 3ms/step - loss: 0.0134 - mse: 0.0134 - mae: 0.0910 - val_loss: 0.0122 - val_mse: 0.0122 - val_mae: 0.0855\n",
      "Epoch 4/50\n",
      "214/214 [==============================] - 1s 3ms/step - loss: 0.0110 - mse: 0.0110 - mae: 0.0811 - val_loss: 0.0100 - val_mse: 0.0100 - val_mae: 0.0759\n",
      "Epoch 5/50\n",
      "214/214 [==============================] - 1s 3ms/step - loss: 0.0096 - mse: 0.0096 - mae: 0.0737 - val_loss: 0.0090 - val_mse: 0.0090 - val_mae: 0.0708\n",
      "Epoch 6/50\n",
      "214/214 [==============================] - 1s 3ms/step - loss: 0.0089 - mse: 0.0089 - mae: 0.0702 - val_loss: 0.0085 - val_mse: 0.0085 - val_mae: 0.0685\n",
      "Epoch 7/50\n",
      "214/214 [==============================] - 1s 3ms/step - loss: 0.0085 - mse: 0.0085 - mae: 0.0678 - val_loss: 0.0082 - val_mse: 0.0082 - val_mae: 0.0669\n",
      "Epoch 8/50\n",
      "214/214 [==============================] - 1s 3ms/step - loss: 0.0082 - mse: 0.0082 - mae: 0.0666 - val_loss: 0.0080 - val_mse: 0.0080 - val_mae: 0.0657\n",
      "Epoch 9/50\n",
      "214/214 [==============================] - 1s 3ms/step - loss: 0.0080 - mse: 0.0080 - mae: 0.0657 - val_loss: 0.0078 - val_mse: 0.0078 - val_mae: 0.0646\n",
      "Epoch 10/50\n",
      "214/214 [==============================] - 1s 3ms/step - loss: 0.0079 - mse: 0.0079 - mae: 0.0650 - val_loss: 0.0077 - val_mse: 0.0077 - val_mae: 0.0643\n",
      "Epoch 11/50\n",
      "214/214 [==============================] - 1s 3ms/step - loss: 0.0078 - mse: 0.0078 - mae: 0.0644 - val_loss: 0.0078 - val_mse: 0.0078 - val_mae: 0.0652\n",
      "Epoch 12/50\n",
      "214/214 [==============================] - 1s 3ms/step - loss: 0.0077 - mse: 0.0077 - mae: 0.0640 - val_loss: 0.0075 - val_mse: 0.0075 - val_mae: 0.0628\n",
      "Epoch 13/50\n",
      "214/214 [==============================] - 1s 3ms/step - loss: 0.0077 - mse: 0.0077 - mae: 0.0634 - val_loss: 0.0075 - val_mse: 0.0075 - val_mae: 0.0626\n",
      "Epoch 14/50\n",
      "214/214 [==============================] - 1s 3ms/step - loss: 0.0076 - mse: 0.0076 - mae: 0.0632 - val_loss: 0.0075 - val_mse: 0.0075 - val_mae: 0.0621\n",
      "Epoch 15/50\n",
      "214/214 [==============================] - 1s 3ms/step - loss: 0.0076 - mse: 0.0076 - mae: 0.0631 - val_loss: 0.0074 - val_mse: 0.0074 - val_mae: 0.0622\n",
      "Epoch 16/50\n",
      "214/214 [==============================] - 1s 3ms/step - loss: 0.0075 - mse: 0.0075 - mae: 0.0627 - val_loss: 0.0074 - val_mse: 0.0074 - val_mae: 0.0619\n",
      "Epoch 17/50\n",
      "214/214 [==============================] - 1s 3ms/step - loss: 0.0075 - mse: 0.0075 - mae: 0.0625 - val_loss: 0.0074 - val_mse: 0.0074 - val_mae: 0.0623\n",
      "Epoch 18/50\n",
      "214/214 [==============================] - 1s 3ms/step - loss: 0.0075 - mse: 0.0075 - mae: 0.0623 - val_loss: 0.0074 - val_mse: 0.0074 - val_mae: 0.0618\n",
      "Epoch 19/50\n",
      "214/214 [==============================] - 1s 3ms/step - loss: 0.0075 - mse: 0.0075 - mae: 0.0623 - val_loss: 0.0073 - val_mse: 0.0073 - val_mae: 0.0617\n",
      "Epoch 20/50\n",
      "214/214 [==============================] - 1s 3ms/step - loss: 0.0075 - mse: 0.0075 - mae: 0.0622 - val_loss: 0.0073 - val_mse: 0.0073 - val_mae: 0.0612\n",
      "Epoch 21/50\n",
      "214/214 [==============================] - 1s 3ms/step - loss: 0.0074 - mse: 0.0074 - mae: 0.0621 - val_loss: 0.0074 - val_mse: 0.0074 - val_mae: 0.0610\n",
      "Epoch 22/50\n",
      "214/214 [==============================] - 1s 3ms/step - loss: 0.0074 - mse: 0.0074 - mae: 0.0620 - val_loss: 0.0073 - val_mse: 0.0073 - val_mae: 0.0620\n",
      "Epoch 23/50\n",
      "214/214 [==============================] - 1s 3ms/step - loss: 0.0074 - mse: 0.0074 - mae: 0.0620 - val_loss: 0.0073 - val_mse: 0.0073 - val_mae: 0.0619\n",
      "Epoch 24/50\n",
      "214/214 [==============================] - 1s 3ms/step - loss: 0.0074 - mse: 0.0074 - mae: 0.0619 - val_loss: 0.0074 - val_mse: 0.0074 - val_mae: 0.0630\n",
      "Epoch 25/50\n",
      "214/214 [==============================] - 1s 3ms/step - loss: 0.0074 - mse: 0.0074 - mae: 0.0620 - val_loss: 0.0075 - val_mse: 0.0075 - val_mae: 0.0630\n",
      "Epoch 26/50\n",
      "214/214 [==============================] - 1s 3ms/step - loss: 0.0074 - mse: 0.0074 - mae: 0.0620 - val_loss: 0.0074 - val_mse: 0.0074 - val_mae: 0.0628\n",
      "Epoch 27/50\n",
      "214/214 [==============================] - 1s 3ms/step - loss: 0.0074 - mse: 0.0074 - mae: 0.0619 - val_loss: 0.0073 - val_mse: 0.0073 - val_mae: 0.0610\n",
      "Epoch 28/50\n",
      "214/214 [==============================] - 1s 3ms/step - loss: 0.0074 - mse: 0.0074 - mae: 0.0618 - val_loss: 0.0073 - val_mse: 0.0073 - val_mae: 0.0620\n",
      "Epoch 29/50\n",
      "214/214 [==============================] - 1s 3ms/step - loss: 0.0074 - mse: 0.0074 - mae: 0.0621 - val_loss: 0.0073 - val_mse: 0.0073 - val_mae: 0.0611\n",
      "Epoch 30/50\n",
      "214/214 [==============================] - 1s 3ms/step - loss: 0.0073 - mse: 0.0073 - mae: 0.0617 - val_loss: 0.0073 - val_mse: 0.0073 - val_mae: 0.0608\n",
      "Epoch 31/50\n",
      "214/214 [==============================] - 1s 3ms/step - loss: 0.0074 - mse: 0.0074 - mae: 0.0619 - val_loss: 0.0073 - val_mse: 0.0073 - val_mae: 0.0609\n",
      "Epoch 32/50\n",
      "214/214 [==============================] - 1s 3ms/step - loss: 0.0074 - mse: 0.0074 - mae: 0.0617 - val_loss: 0.0073 - val_mse: 0.0073 - val_mae: 0.0608\n",
      "Epoch 33/50\n",
      "214/214 [==============================] - 1s 3ms/step - loss: 0.0074 - mse: 0.0074 - mae: 0.0618 - val_loss: 0.0074 - val_mse: 0.0074 - val_mae: 0.0622\n",
      "Epoch 34/50\n",
      "214/214 [==============================] - 1s 3ms/step - loss: 0.0074 - mse: 0.0074 - mae: 0.0617 - val_loss: 0.0073 - val_mse: 0.0073 - val_mae: 0.0615\n",
      "Epoch 35/50\n",
      "214/214 [==============================] - 1s 3ms/step - loss: 0.0074 - mse: 0.0074 - mae: 0.0618 - val_loss: 0.0073 - val_mse: 0.0073 - val_mae: 0.0608\n",
      "Epoch 36/50\n",
      "214/214 [==============================] - 1s 3ms/step - loss: 0.0073 - mse: 0.0073 - mae: 0.0616 - val_loss: 0.0072 - val_mse: 0.0072 - val_mae: 0.0607\n",
      "Epoch 37/50\n",
      "214/214 [==============================] - 1s 3ms/step - loss: 0.0074 - mse: 0.0074 - mae: 0.0619 - val_loss: 0.0072 - val_mse: 0.0072 - val_mae: 0.0609\n",
      "Epoch 38/50\n",
      "214/214 [==============================] - 1s 3ms/step - loss: 0.0073 - mse: 0.0073 - mae: 0.0616 - val_loss: 0.0072 - val_mse: 0.0072 - val_mae: 0.0608\n",
      "Epoch 39/50\n",
      "214/214 [==============================] - 1s 3ms/step - loss: 0.0073 - mse: 0.0073 - mae: 0.0615 - val_loss: 0.0072 - val_mse: 0.0072 - val_mae: 0.0609\n",
      "Epoch 40/50\n",
      "214/214 [==============================] - 1s 3ms/step - loss: 0.0073 - mse: 0.0073 - mae: 0.0615 - val_loss: 0.0072 - val_mse: 0.0072 - val_mae: 0.0612\n",
      "Epoch 41/50\n",
      "214/214 [==============================] - 1s 3ms/step - loss: 0.0073 - mse: 0.0073 - mae: 0.0616 - val_loss: 0.0072 - val_mse: 0.0072 - val_mae: 0.0605\n",
      "Epoch 42/50\n",
      "214/214 [==============================] - 1s 3ms/step - loss: 0.0073 - mse: 0.0073 - mae: 0.0613 - val_loss: 0.0072 - val_mse: 0.0072 - val_mae: 0.0604\n",
      "Epoch 43/50\n",
      "214/214 [==============================] - 1s 3ms/step - loss: 0.0073 - mse: 0.0073 - mae: 0.0612 - val_loss: 0.0072 - val_mse: 0.0072 - val_mae: 0.0611\n",
      "Epoch 44/50\n",
      "214/214 [==============================] - 1s 3ms/step - loss: 0.0072 - mse: 0.0072 - mae: 0.0611 - val_loss: 0.0071 - val_mse: 0.0071 - val_mae: 0.0599\n",
      "Epoch 45/50\n",
      "214/214 [==============================] - 1s 3ms/step - loss: 0.0072 - mse: 0.0072 - mae: 0.0611 - val_loss: 0.0071 - val_mse: 0.0071 - val_mae: 0.0598\n",
      "Epoch 46/50\n",
      "214/214 [==============================] - 1s 3ms/step - loss: 0.0072 - mse: 0.0072 - mae: 0.0608 - val_loss: 0.0071 - val_mse: 0.0071 - val_mae: 0.0596\n",
      "Epoch 47/50\n",
      "214/214 [==============================] - 1s 3ms/step - loss: 0.0072 - mse: 0.0072 - mae: 0.0607 - val_loss: 0.0070 - val_mse: 0.0070 - val_mae: 0.0595\n",
      "Epoch 48/50\n",
      "214/214 [==============================] - 1s 3ms/step - loss: 0.0071 - mse: 0.0071 - mae: 0.0606 - val_loss: 0.0070 - val_mse: 0.0070 - val_mae: 0.0595\n",
      "Epoch 49/50\n",
      "214/214 [==============================] - 1s 3ms/step - loss: 0.0071 - mse: 0.0071 - mae: 0.0605 - val_loss: 0.0070 - val_mse: 0.0070 - val_mae: 0.0597\n",
      "Epoch 50/50\n",
      "214/214 [==============================] - 1s 3ms/step - loss: 0.0071 - mse: 0.0071 - mae: 0.0604 - val_loss: 0.0070 - val_mse: 0.0070 - val_mae: 0.0596\n"
     ]
    }
   ],
   "source": [
    "model_history=model.fit(X_train,y_train,validation_data=(X_test,y_test),epochs=50)"
   ]
  },
  {
   "cell_type": "markdown",
   "metadata": {
    "id": "a0nE7N2bVnyV"
   },
   "source": [
    "## 6. Evaluating model performance on validation set"
   ]
  },
  {
   "cell_type": "code",
   "execution_count": 38,
   "metadata": {
    "colab": {
     "base_uri": "https://localhost:8080/"
    },
    "id": "icYvp_PSVnyW",
    "outputId": "fec06a88-6b25-44ba-c708-3338bc609b60"
   },
   "outputs": [
    {
     "name": "stdout",
     "output_type": "stream",
     "text": [
      "WARNING:tensorflow:From <ipython-input-38-7ea1ff8003f3>:1: Sequential.predict_classes (from tensorflow.python.keras.engine.sequential) is deprecated and will be removed after 2021-01-01.\n",
      "Instructions for updating:\n",
      "Please use instead:* `np.argmax(model.predict(x), axis=-1)`,   if your model does multi-class classification   (e.g. if it uses a `softmax` last-layer activation).* `(model.predict(x) > 0.5).astype(\"int32\")`,   if your model does binary classification   (e.g. if it uses a `sigmoid` last-layer activation).\n"
     ]
    }
   ],
   "source": [
    "model_predictions=model.predict_classes(X_test)"
   ]
  },
  {
   "cell_type": "code",
   "execution_count": 39,
   "metadata": {
    "colab": {
     "base_uri": "https://localhost:8080/"
    },
    "id": "wHic03VrVnya",
    "outputId": "20e3fc29-fb5c-4cf1-b300-674e775848f6"
   },
   "outputs": [
    {
     "name": "stdout",
     "output_type": "stream",
     "text": [
      "0.1663897550064721\n",
      "0.04510596854089886\n"
     ]
    }
   ],
   "source": [
    "# calculating the accuracy on validation set\n",
    "print(mean_absolute_error(y_test,model_predictions))\n",
    "print(mean_squared_error(y_test,model_predictions))"
   ]
  },
  {
   "cell_type": "markdown",
   "metadata": {
    "id": "ki54YXOAVnyd"
   },
   "source": [
    "### Visualizing the model performance"
   ]
  },
  {
   "cell_type": "code",
   "execution_count": 40,
   "metadata": {
    "colab": {
     "base_uri": "https://localhost:8080/",
     "height": 295
    },
    "id": "XH70OId6Vnyd",
    "outputId": "02b5508c-3b95-4827-b729-25c3c81749dc"
   },
   "outputs": [
    {
     "data": {
      "image/png": "[encoded data removed]",
      "text/plain": [
       "<Figure size 432x288 with 1 Axes>"
      ]
     },
     "metadata": {
      "needs_background": "light",
      "tags": []
     },
     "output_type": "display_data"
    }
   ],
   "source": [
    "# summarize history for loss\n",
    "plt.plot(model_history.history['loss'])\n",
    "plt.plot(model_history.history['val_loss'])\n",
    "plt.title('model loss')\n",
    "plt.ylabel('loss')\n",
    "plt.xlabel('epoch')\n",
    "plt.legend(['train', 'validation'], loc='upper left')\n",
    "plt.show()"
   ]
  },
  {
   "cell_type": "code",
   "execution_count": 41,
   "metadata": {
    "colab": {
     "base_uri": "https://localhost:8080/",
     "height": 295
    },
    "id": "Hy_s6WReVnyg",
    "outputId": "b8cb8eee-7d0f-4e28-9d2f-78b96737dcd5"
   },
   "outputs": [
    {
     "data": {
      "image/png": "[encoded data removed]",
      "text/plain": [
       "<Figure size 432x288 with 1 Axes>"
      ]
     },
     "metadata": {
      "needs_background": "light",
      "tags": []
     },
     "output_type": "display_data"
    }
   ],
   "source": [
    "# summarize history for accuracy\n",
    "plt.plot(model_history.history['mae'])\n",
    "plt.plot(model_history.history['val_mae'])\n",
    "plt.title('model accuracy')\n",
    "plt.ylabel('accuracy')\n",
    "plt.xlabel('epoch')\n",
    "plt.legend(['train', 'validation'], loc='upper left')\n",
    "plt.show()"
   ]
  },
  {
   "cell_type": "markdown",
   "metadata": {
    "id": "VIWurOmaVnyj"
   },
   "source": [
    "### Analysing test_data"
   ]
  },
  {
   "cell_type": "code",
   "execution_count": 42,
   "metadata": {
    "colab": {
     "base_uri": "https://localhost:8080/",
     "height": 309
    },
    "id": "tBFdnRDOVnyk",
    "outputId": "4b245063-f8a5-4754-98d1-f9a4393dfb7d"
   },
   "outputs": [
    {
     "data": {
      "text/html": [
       "<div>\n",
       "<style scoped>\n",
       "    .dataframe tbody tr th:only-of-type {\n",
       "        vertical-align: middle;\n",
       "    }\n",
       "\n",
       "    .dataframe tbody tr th {\n",
       "        vertical-align: top;\n",
       "    }\n",
       "\n",
       "    .dataframe thead th {\n",
       "        text-align: right;\n",
       "    }\n",
       "</style>\n",
       "<table border=\"1\" class=\"dataframe\">\n",
       "  <thead>\n",
       "    <tr style=\"text-align: right;\">\n",
       "      <th></th>\n",
       "      <th>Item_Identifier</th>\n",
       "      <th>Item_Weight</th>\n",
       "      <th>Item_Fat_Content</th>\n",
       "      <th>Item_Visibility</th>\n",
       "      <th>Item_Type</th>\n",
       "      <th>Item_MRP</th>\n",
       "      <th>Outlet_Identifier</th>\n",
       "      <th>Outlet_Establishment_Year</th>\n",
       "      <th>Outlet_Size</th>\n",
       "      <th>Outlet_Location_Type</th>\n",
       "      <th>Outlet_Type</th>\n",
       "    </tr>\n",
       "  </thead>\n",
       "  <tbody>\n",
       "    <tr>\n",
       "      <th>0</th>\n",
       "      <td>FDW58</td>\n",
       "      <td>20.750</td>\n",
       "      <td>Low Fat</td>\n",
       "      <td>0.007565</td>\n",
       "      <td>Snack Foods</td>\n",
       "      <td>107.8622</td>\n",
       "      <td>OUT049</td>\n",
       "      <td>1999</td>\n",
       "      <td>Medium</td>\n",
       "      <td>Tier 1</td>\n",
       "      <td>Supermarket Type1</td>\n",
       "    </tr>\n",
       "    <tr>\n",
       "      <th>1</th>\n",
       "      <td>FDW14</td>\n",
       "      <td>8.300</td>\n",
       "      <td>reg</td>\n",
       "      <td>0.038428</td>\n",
       "      <td>Dairy</td>\n",
       "      <td>87.3198</td>\n",
       "      <td>OUT017</td>\n",
       "      <td>2007</td>\n",
       "      <td>NaN</td>\n",
       "      <td>Tier 2</td>\n",
       "      <td>Supermarket Type1</td>\n",
       "    </tr>\n",
       "    <tr>\n",
       "      <th>2</th>\n",
       "      <td>NCN55</td>\n",
       "      <td>14.600</td>\n",
       "      <td>Low Fat</td>\n",
       "      <td>0.099575</td>\n",
       "      <td>Others</td>\n",
       "      <td>241.7538</td>\n",
       "      <td>OUT010</td>\n",
       "      <td>1998</td>\n",
       "      <td>NaN</td>\n",
       "      <td>Tier 3</td>\n",
       "      <td>Grocery Store</td>\n",
       "    </tr>\n",
       "    <tr>\n",
       "      <th>3</th>\n",
       "      <td>FDQ58</td>\n",
       "      <td>7.315</td>\n",
       "      <td>Low Fat</td>\n",
       "      <td>0.015388</td>\n",
       "      <td>Snack Foods</td>\n",
       "      <td>155.0340</td>\n",
       "      <td>OUT017</td>\n",
       "      <td>2007</td>\n",
       "      <td>NaN</td>\n",
       "      <td>Tier 2</td>\n",
       "      <td>Supermarket Type1</td>\n",
       "    </tr>\n",
       "    <tr>\n",
       "      <th>4</th>\n",
       "      <td>FDY38</td>\n",
       "      <td>NaN</td>\n",
       "      <td>Regular</td>\n",
       "      <td>0.118599</td>\n",
       "      <td>Dairy</td>\n",
       "      <td>234.2300</td>\n",
       "      <td>OUT027</td>\n",
       "      <td>1985</td>\n",
       "      <td>Medium</td>\n",
       "      <td>Tier 3</td>\n",
       "      <td>Supermarket Type3</td>\n",
       "    </tr>\n",
       "  </tbody>\n",
       "</table>\n",
       "</div>"
      ],
      "text/plain": [
       "  Item_Identifier  Item_Weight  ... Outlet_Location_Type        Outlet_Type\n",
       "0           FDW58       20.750  ...               Tier 1  Supermarket Type1\n",
       "1           FDW14        8.300  ...               Tier 2  Supermarket Type1\n",
       "2           NCN55       14.600  ...               Tier 3      Grocery Store\n",
       "3           FDQ58        7.315  ...               Tier 2  Supermarket Type1\n",
       "4           FDY38          NaN  ...               Tier 3  Supermarket Type3\n",
       "\n",
       "[5 rows x 11 columns]"
      ]
     },
     "execution_count": 42,
     "metadata": {
      "tags": []
     },
     "output_type": "execute_result"
    }
   ],
   "source": [
    "test=pd.read_csv('test.csv')\n",
    "test.head()"
   ]
  },
  {
   "cell_type": "code",
   "execution_count": 43,
   "metadata": {
    "colab": {
     "base_uri": "https://localhost:8080/"
    },
    "id": "qvVdFK0DVnyo",
    "outputId": "c12d79dc-50c0-4a6f-d02e-496199b76c87"
   },
   "outputs": [
    {
     "data": {
      "text/plain": [
       "Item_Identifier                 0\n",
       "Item_Weight                   976\n",
       "Item_Fat_Content                0\n",
       "Item_Visibility                 0\n",
       "Item_Type                       0\n",
       "Item_MRP                        0\n",
       "Outlet_Identifier               0\n",
       "Outlet_Establishment_Year       0\n",
       "Outlet_Size                  1606\n",
       "Outlet_Location_Type            0\n",
       "Outlet_Type                     0\n",
       "dtype: int64"
      ]
     },
     "execution_count": 43,
     "metadata": {
      "tags": []
     },
     "output_type": "execute_result"
    }
   ],
   "source": [
    "test.isna().sum()"
   ]
  },
  {
   "cell_type": "code",
   "execution_count": 44,
   "metadata": {
    "id": "VAMZm4xuVnys"
   },
   "outputs": [],
   "source": [
    "test.columns=test.columns.str.strip().str.lower()\n",
    "TEST=test.copy()"
   ]
  },
  {
   "cell_type": "code",
   "execution_count": 45,
   "metadata": {
    "id": "s2J09vX9Vnyw"
   },
   "outputs": [],
   "source": [
    "test['outlet_size'].fillna(test['outlet_size'].mode()[0],inplace=True)"
   ]
  },
  {
   "cell_type": "code",
   "execution_count": 46,
   "metadata": {
    "id": "8-v74FVEVnyz"
   },
   "outputs": [],
   "source": [
    "test['item_weight'].fillna(test['item_weight'].median(),inplace=True)"
   ]
  },
  {
   "cell_type": "code",
   "execution_count": 47,
   "metadata": {
    "id": "4JhZ2FfiVny2"
   },
   "outputs": [],
   "source": [
    "test['item_fat_content']=test['item_fat_content'].map({'Low Fat':0,'Regular':1,'LF':2,'reg':3,'low fat':4})\n",
    "\n",
    "\n",
    "test['item_type']=test['item_type'].map({'Fruits and Vegetables':0,'Snack Foods':1,'Household':2,'Frozen Foods':3,'Dairy':4,'Canned':5,'Baking Goods':6,'Health and Hygiene':7,'Soft Drinks':8,'Meat':9,'Breads':10,'Hard Drinks':11,'Others':12,'Starchy Foods':13,'Breakfast':14,'Seafood':15})\n",
    "\n",
    "\n",
    "\n",
    "\n",
    "test['outlet_size']=test['outlet_size'].map({'Medium':0,'Small':1,'High':2})\n",
    "\n",
    "test['outlet_type']=test['outlet_type'].map({'Supermarket Type1':0,'Grocery Store':1,'Supermarket Type3':2,'Supermarket Type2':3})\n",
    "\n",
    "test['outlet_location_type']=test['outlet_location_type'].map({'Tier 1':0,'Tier 2':1,'Tier 3':2})\n",
    "\n",
    "test['outlet_identifier']=test['outlet_identifier'].map({'OUT027':0,'OUT013':1,'OUT046':2,'OUT049':3,'OUT035':4,'OUT045':5,'OUT018':6,'OUT017':7,'OUT010':8,'OUT019':9})"
   ]
  },
  {
   "cell_type": "code",
   "execution_count": 48,
   "metadata": {
    "id": "a1MtRb8LVny9"
   },
   "outputs": [],
   "source": [
    "for i in test.columns[1:]:\n",
    "    test[i]=(test[i]-test[i].min())/(test[i].max()-test[i].min())\n",
    "    "
   ]
  },
  {
   "cell_type": "code",
   "execution_count": 49,
   "metadata": {
    "id": "tBhzI4cnVny_"
   },
   "outputs": [],
   "source": [
    "\n",
    "test.drop(columns=['item_identifier'],axis=1,inplace=True)"
   ]
  },
  {
   "cell_type": "code",
   "execution_count": 50,
   "metadata": {
    "id": "Gc3mDM7CVnzE"
   },
   "outputs": [],
   "source": [
    "predictions=model.predict(test)"
   ]
  },
  {
   "cell_type": "code",
   "execution_count": 51,
   "metadata": {
    "colab": {
     "base_uri": "https://localhost:8080/",
     "height": 204
    },
    "id": "YfoS3fxqVnzJ",
    "outputId": "6439ebf3-87d1-4f90-bcb7-7edbb30de8cf"
   },
   "outputs": [
    {
     "data": {
      "text/html": [
       "<div>\n",
       "<style scoped>\n",
       "    .dataframe tbody tr th:only-of-type {\n",
       "        vertical-align: middle;\n",
       "    }\n",
       "\n",
       "    .dataframe tbody tr th {\n",
       "        vertical-align: top;\n",
       "    }\n",
       "\n",
       "    .dataframe thead th {\n",
       "        text-align: right;\n",
       "    }\n",
       "</style>\n",
       "<table border=\"1\" class=\"dataframe\">\n",
       "  <thead>\n",
       "    <tr style=\"text-align: right;\">\n",
       "      <th></th>\n",
       "      <th>Item_Identifier</th>\n",
       "      <th>Outlet_Identifier</th>\n",
       "      <th>Item_Outlet_Sales</th>\n",
       "    </tr>\n",
       "  </thead>\n",
       "  <tbody>\n",
       "    <tr>\n",
       "      <th>0</th>\n",
       "      <td>FDW58</td>\n",
       "      <td>OUT049</td>\n",
       "      <td>1000</td>\n",
       "    </tr>\n",
       "    <tr>\n",
       "      <th>1</th>\n",
       "      <td>FDW14</td>\n",
       "      <td>OUT017</td>\n",
       "      <td>1000</td>\n",
       "    </tr>\n",
       "    <tr>\n",
       "      <th>2</th>\n",
       "      <td>NCN55</td>\n",
       "      <td>OUT010</td>\n",
       "      <td>1000</td>\n",
       "    </tr>\n",
       "    <tr>\n",
       "      <th>3</th>\n",
       "      <td>FDQ58</td>\n",
       "      <td>OUT017</td>\n",
       "      <td>1000</td>\n",
       "    </tr>\n",
       "    <tr>\n",
       "      <th>4</th>\n",
       "      <td>FDY38</td>\n",
       "      <td>OUT027</td>\n",
       "      <td>1000</td>\n",
       "    </tr>\n",
       "  </tbody>\n",
       "</table>\n",
       "</div>"
      ],
      "text/plain": [
       "  Item_Identifier Outlet_Identifier  Item_Outlet_Sales\n",
       "0           FDW58            OUT049               1000\n",
       "1           FDW14            OUT017               1000\n",
       "2           NCN55            OUT010               1000\n",
       "3           FDQ58            OUT017               1000\n",
       "4           FDY38            OUT027               1000"
      ]
     },
     "execution_count": 51,
     "metadata": {
      "tags": []
     },
     "output_type": "execute_result"
    }
   ],
   "source": [
    "submission=pd.read_csv('sample_submission_hP4II7x.csv')\n",
    "submission.head()"
   ]
  },
  {
   "cell_type": "code",
   "execution_count": 52,
   "metadata": {
    "id": "DsLBs9c6VnzL"
   },
   "outputs": [],
   "source": [
    "submission['Item_Outlet_Sales']=predictions\n",
    "submission['Item_Identifier']=TEST['item_identifier']\n",
    "submission['Outlet_Identifier']=TEST['outlet_identifier']"
   ]
  },
  {
   "cell_type": "code",
   "execution_count": 57,
   "metadata": {
    "id": "5EAwaEKXVnzO"
   },
   "outputs": [],
   "source": [
    "pd.DataFrame(submission,columns=['Item_Identifier','Outlet_Identifier','Item_Outlet_Sales']).to_csv('neural_nets.csv')"
   ]
  }
 ],
 "metadata": {
  "accelerator": "GPU",
  "colab": {
   "name": "Big_mart_sales_neural_networks.ipynb",
   "provenance": [],
   "toc_visible": true
  },
  "kernelspec": {
   "display_name": "Python 3",
   "language": "python",
   "name": "python3"
  },
  "language_info": {
   "codemirror_mode": {
    "name": "ipython",
    "version": 3
   },
   "file_extension": ".py",
   "mimetype": "text/x-python",
   "name": "python",
   "nbconvert_exporter": "python",
   "pygments_lexer": "ipython3",
   "version": "3.8.3"
  }
 },
 "nbformat": 4,
 "nbformat_minor": 1
}
